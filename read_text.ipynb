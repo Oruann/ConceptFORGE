{
  "nbformat": 4,
  "nbformat_minor": 0,
  "metadata": {
    "colab": {
      "name": "read_text.ipynb",
      "provenance": [],
      "authorship_tag": "ABX9TyNzDrDMV1yzEeqEAqMzOUuK",
      "include_colab_link": true
    },
    "kernelspec": {
      "name": "python3",
      "display_name": "Python 3"
    },
    "language_info": {
      "name": "python"
    }
  },
  "cells": [
    {
      "cell_type": "markdown",
      "metadata": {
        "id": "view-in-github",
        "colab_type": "text"
      },
      "source": [
        "<a href=\"https://colab.research.google.com/github/Oruann/ConceptFORGE/blob/master/read_text.ipynb\" target=\"_parent\"><img src=\"https://colab.research.google.com/assets/colab-badge.svg\" alt=\"Open In Colab\"/></a>"
      ]
    },
    {
      "cell_type": "code",
      "metadata": {
        "id": "rTD4PiFWy7jX"
      },
      "source": [
        "lines = []\n",
        "\n",
        "file_name = '/1124_TRF_lib'\n",
        "\n",
        "with open(file_name, 'r') as var:\n",
        "    for line in var:\n",
        "        line = line.rstrip()\n",
        "        lines.append(line)\n",
        "      \n",
        "  "
      ],
      "execution_count": 16,
      "outputs": []
    },
    {
      "cell_type": "code",
      "metadata": {
        "id": "iGhQAWlZ0Qs1"
      },
      "source": [
        "lines[0:10]"
      ],
      "execution_count": null,
      "outputs": []
    },
    {
      "cell_type": "code",
      "metadata": {
        "colab": {
          "base_uri": "https://localhost:8080/",
          "height": 402
        },
        "id": "hWWwwgS_0J9B",
        "outputId": "a1e07679-1021-44dc-aff9-f3a688b804eb"
      },
      "source": [
        "import pandas as pd\n",
        "\n",
        "df = pd.read_csv(file_name)\n",
        "df"
      ],
      "execution_count": 21,
      "outputs": [
        {
          "output_type": "execute_result",
          "data": {
            "text/html": [
              "<div>\n",
              "<style scoped>\n",
              "    .dataframe tbody tr th:only-of-type {\n",
              "        vertical-align: middle;\n",
              "    }\n",
              "\n",
              "    .dataframe tbody tr th {\n",
              "        vertical-align: top;\n",
              "    }\n",
              "\n",
              "    .dataframe thead th {\n",
              "        text-align: right;\n",
              "    }\n",
              "</style>\n",
              "<table border=\"1\" class=\"dataframe\">\n",
              "  <thead>\n",
              "    <tr style=\"text-align: right;\">\n",
              "      <th></th>\n",
              "      <th>$F1124-0562 LIB</th>\n",
              "    </tr>\n",
              "  </thead>\n",
              "  <tbody>\n",
              "    <tr>\n",
              "      <th>0</th>\n",
              "      <td>*Pos canal AS esc</td>\n",
              "    </tr>\n",
              "    <tr>\n",
              "      <th>1</th>\n",
              "      <td>/Admin</td>\n",
              "    </tr>\n",
              "    <tr>\n",
              "      <th>2</th>\n",
              "      <td>%1112-COQ6</td>\n",
              "    </tr>\n",
              "    <tr>\n",
              "      <th>3</th>\n",
              "      <td>&amp;26: 6:18:07:43</td>\n",
              "    </tr>\n",
              "    <tr>\n",
              "      <th>4</th>\n",
              "      <td>51.413</td>\n",
              "    </tr>\n",
              "    <tr>\n",
              "      <th>...</th>\n",
              "      <td>...</td>\n",
              "    </tr>\n",
              "    <tr>\n",
              "      <th>75704</th>\n",
              "      <td>6.431</td>\n",
              "    </tr>\n",
              "    <tr>\n",
              "      <th>75705</th>\n",
              "      <td>/</td>\n",
              "    </tr>\n",
              "    <tr>\n",
              "      <th>75706</th>\n",
              "      <td>%1122-COQ05</td>\n",
              "    </tr>\n",
              "    <tr>\n",
              "      <th>75707</th>\n",
              "      <td>&amp;27:11:19:23:43</td>\n",
              "    </tr>\n",
              "    <tr>\n",
              "      <th>75708</th>\n",
              "      <td>6.510</td>\n",
              "    </tr>\n",
              "  </tbody>\n",
              "</table>\n",
              "<p>75709 rows × 1 columns</p>\n",
              "</div>"
            ],
            "text/plain": [
              "                           $F1124-0562 LIB      \n",
              "0                          *Pos canal AS esc    \n",
              "1                            /Admin             \n",
              "2      %1112-COQ6                               \n",
              "3                                &26: 6:18:07:43\n",
              "4                                         51.413\n",
              "...                                          ...\n",
              "75704                                      6.431\n",
              "75705                        /                  \n",
              "75706  %1122-COQ05                              \n",
              "75707                            &27:11:19:23:43\n",
              "75708                                      6.510\n",
              "\n",
              "[75709 rows x 1 columns]"
            ]
          },
          "metadata": {
            "tags": []
          },
          "execution_count": 21
        }
      ]
    },
    {
      "cell_type": "code",
      "metadata": {
        "colab": {
          "base_uri": "https://localhost:8080/"
        },
        "id": "2K27b00Pza9h",
        "outputId": "eb313bc3-b177-4cf9-8dd0-98acdc67753f"
      },
      "source": [
        "lines[0:10]"
      ],
      "execution_count": 5,
      "outputs": [
        {
          "output_type": "execute_result",
          "data": {
            "text/plain": [
              "['$F1124-0562 LIB      \\n',\n",
              " '*Pos canal AS esc    \\n',\n",
              " '/Admin             \\n',\n",
              " '%1112-COQ6                               \\n',\n",
              " '&26: 6:18:07:43\\n',\n",
              " '51.413\\n',\n",
              " '/Admin             \\n',\n",
              " '%1122-COQ6                               \\n',\n",
              " '&26: 6:18:07:59\\n',\n",
              " '51.129\\n']"
            ]
          },
          "metadata": {
            "tags": []
          },
          "execution_count": 5
        }
      ]
    }
  ]
}